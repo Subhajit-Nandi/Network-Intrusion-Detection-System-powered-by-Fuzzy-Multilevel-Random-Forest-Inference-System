{
 "cells": [
  {
   "cell_type": "markdown",
   "metadata": {
    "id": "OqSL35kjKwwu"
   },
   "source": [
    "----\n",
    "INTRUSION DETECTION SYSTEM USING MULTILEVEL RANDOM FOREST MODEL & FUZZY INFERENCE SYSTEM\n",
    "----"
   ]
  },
  {
   "cell_type": "code",
   "execution_count": 1,
   "metadata": {
    "colab": {
     "base_uri": "https://localhost:8080/",
     "height": 384
    },
    "id": "i-fEx6dRKq2Q",
    "outputId": "cb902ef1-a834-45bc-ec8a-480cc64ebe4e"
   },
   "outputs": [],
   "source": [
    "#IMPORTING MODELS\n",
    "\n",
    "\n",
    "#For Data\n",
    "import pandas as pd\n",
    "from sklearn.model_selection import train_test_split\n",
    "from sklearn.preprocessing import LabelEncoder,StandardScaler\n",
    "\n",
    "#For Feature selection\n",
    "from sklearn.feature_selection import mutual_info_classif,SelectKBest\n",
    "\n",
    "#For MultiLevel Random Forest\n",
    "from sklearn.ensemble import RandomForestClassifier\n",
    "from sklearn.metrics import classification_report,accuracy_score\n",
    "from imblearn.over_sampling import SMOTE\n",
    "\n",
    "#For Fuzzy-Inference System\n",
    "import skfuzzy as fuzz\n",
    "import numpy as np\n",
    "\n",
    "#For Visualization\n",
    "import matplotlib.pyplot as plt\n",
    "import seaborn as sns\n",
    "\n",
    "#Confusion Matrix\n",
    "from sklearn.metrics import confusion_matrix\n"
   ]
  },
  {
   "cell_type": "markdown",
   "metadata": {
    "id": "XU6amMoJNHsr"
   },
   "source": [
    "----\n",
    "DATA PREPARATION"
   ]
  },
  {
   "cell_type": "code",
   "execution_count": 2,
   "metadata": {
    "id": "jlvDoNjHNMBF"
   },
   "outputs": [],
   "source": [
    "#Loading Data\n",
    "data=pd.read_csv('C:/Users/subha/OneDrive/Desktop/FINAL YEAR PROJECT/NSL-KDD.csv')\n",
    "\n",
    "#Encode categorical features\n",
    "categorical_cols=['protocol_type','service','flag']\n",
    "for col in categorical_cols:\n",
    "  data[col]=LabelEncoder().fit_transform(data[col])\n",
    "\n",
    "\n",
    "#Separate features and target\n",
    "X=data.drop('labels',axis=1)\n",
    "Y=data['labels']\n",
    "\n",
    "#Scale the features\n",
    "scaler=StandardScaler()\n",
    "X_scaled=scaler.fit_transform(X)\n",
    "\n",
    "#Splitting the data into test & train sets\n",
    "X_train,X_test,Y_train,Y_test=train_test_split(X_scaled,Y,test_size=0.3,random_state=42)"
   ]
  },
  {
   "cell_type": "code",
   "execution_count": 3,
   "metadata": {
    "id": "D-bano8NNG50"
   },
   "outputs": [
    {
     "name": "stdout",
     "output_type": "stream",
     "text": [
      "(15780, 41) (6764, 41) (15780,) (6764,)\n"
     ]
    }
   ],
   "source": [
    "print(X_train.shape,X_test.shape,Y_train.shape,Y_test.shape)"
   ]
  },
  {
   "cell_type": "markdown",
   "metadata": {},
   "source": [
    "----\n",
    "FEATURE SELECTION\n"
   ]
  },
  {
   "cell_type": "code",
   "execution_count": 4,
   "metadata": {},
   "outputs": [
    {
     "name": "stdout",
     "output_type": "stream",
     "text": [
      "Selected Features: Index(['service', 'flag', 'src_bytes', 'dst_bytes', 'logged_in', 'count',\n",
      "       'srv_count', 'serror_rate', 'srv_serror_rate', 'same_srv_rate',\n",
      "       'diff_srv_rate', 'dst_host_srv_count', 'dst_host_same_srv_rate',\n",
      "       'dst_host_diff_srv_rate', 'dst_host_same_src_port_rate',\n",
      "       'dst_host_srv_diff_host_rate', 'dst_host_serror_rate',\n",
      "       'dst_host_srv_serror_rate', 'dst_host_rerror_rate',\n",
      "       'dst_host_srv_rerror_rate'],\n",
      "      dtype='object')\n"
     ]
    }
   ],
   "source": [
    "#Correlation-Based Feature Selection\n",
    "k=20\n",
    "selector=SelectKBest(score_func=mutual_info_classif,k=k)\n",
    "X_train_selected=selector.fit_transform(X_train,Y_train)\n",
    "X_test_selected=selector.transform(X_test)\n",
    "selected_features=X.columns[selector.get_support()]\n",
    "print(\"Selected Features:\", selected_features)"
   ]
  },
  {
   "cell_type": "markdown",
   "metadata": {},
   "source": [
    "----\n",
    "TRAINING A MULTI-LEVEL RANDOM FOREST"
   ]
  },
  {
   "cell_type": "code",
   "execution_count": 5,
   "metadata": {},
   "outputs": [
    {
     "name": "stdout",
     "output_type": "stream",
     "text": [
      "Accuracy: 0.9853636901241869\n",
      "                 precision    recall  f1-score   support\n",
      "\n",
      "        apache2       1.00      0.98      0.99        59\n",
      "           back       1.00      1.00      1.00        48\n",
      "buffer_overflow       0.00      0.00      0.00         7\n",
      "   guess_passwd       1.00      0.98      0.99       133\n",
      "     httptunnel       0.92      1.00      0.96        12\n",
      "           imap       0.00      0.00      0.00         1\n",
      "        ipsweep       0.99      0.95      0.97       120\n",
      "           land       0.00      0.00      0.00         2\n",
      "     loadmodule       0.00      0.00      0.00         1\n",
      "       mailbomb       1.00      1.00      1.00        30\n",
      "          mscan       1.00      0.95      0.97        82\n",
      "       multihop       0.00      0.00      0.00         2\n",
      "          named       0.00      0.00      0.00         1\n",
      "        neptune       1.00      1.00      1.00      2024\n",
      "           nmap       0.93      0.97      0.95        58\n",
      "         normal       0.98      0.99      0.99      3378\n",
      "            pod       1.00      0.88      0.93         8\n",
      "      portsweep       0.99      0.96      0.97       117\n",
      "   processtable       0.98      1.00      0.99        59\n",
      "             ps       0.00      0.00      0.00         1\n",
      "        rootkit       0.00      0.00      0.00         2\n",
      "          saint       0.90      0.81      0.85        32\n",
      "          satan       0.94      0.97      0.95       218\n",
      "       sendmail       0.00      0.00      0.00         1\n",
      "          smurf       1.00      0.99      1.00       166\n",
      "  snmpgetattack       0.60      0.20      0.30        15\n",
      "      snmpguess       1.00      1.00      1.00        29\n",
      "       teardrop       0.93      0.97      0.95        38\n",
      "    warezclient       0.95      0.81      0.88        26\n",
      "    warezmaster       0.99      0.92      0.95        90\n",
      "          xlock       0.00      0.00      0.00         2\n",
      "         xsnoop       0.00      0.00      0.00         1\n",
      "          xterm       0.00      0.00      0.00         1\n",
      "\n",
      "       accuracy                           0.99      6764\n",
      "      macro avg       0.61      0.59      0.59      6764\n",
      "   weighted avg       0.98      0.99      0.98      6764\n",
      "\n"
     ]
    },
    {
     "name": "stderr",
     "output_type": "stream",
     "text": [
      "C:\\Users\\subha\\AppData\\Local\\Programs\\Python\\Python312\\Lib\\site-packages\\sklearn\\metrics\\_classification.py:1531: UndefinedMetricWarning: Precision is ill-defined and being set to 0.0 in labels with no predicted samples. Use `zero_division` parameter to control this behavior.\n",
      "  _warn_prf(average, modifier, f\"{metric.capitalize()} is\", len(result))\n",
      "C:\\Users\\subha\\AppData\\Local\\Programs\\Python\\Python312\\Lib\\site-packages\\sklearn\\metrics\\_classification.py:1531: UndefinedMetricWarning: Precision is ill-defined and being set to 0.0 in labels with no predicted samples. Use `zero_division` parameter to control this behavior.\n",
      "  _warn_prf(average, modifier, f\"{metric.capitalize()} is\", len(result))\n",
      "C:\\Users\\subha\\AppData\\Local\\Programs\\Python\\Python312\\Lib\\site-packages\\sklearn\\metrics\\_classification.py:1531: UndefinedMetricWarning: Precision is ill-defined and being set to 0.0 in labels with no predicted samples. Use `zero_division` parameter to control this behavior.\n",
      "  _warn_prf(average, modifier, f\"{metric.capitalize()} is\", len(result))\n"
     ]
    }
   ],
   "source": [
    "#Level-1 Random Forest\n",
    "rf_level1=RandomForestClassifier(n_estimators=100,random_state=42)\n",
    "rf_level1.fit(X_train_selected,Y_train)\n",
    "\n",
    "#Predictand pass to the next level\n",
    "y_pred_level1=rf_level1.predict(X_train_selected)\n",
    "\n",
    "#Level-2 Random Forest(refinement)\n",
    "rf_level2=RandomForestClassifier(n_estimators=50,random_state=42)\n",
    "rf_level2.fit(X_train_selected,y_pred_level1)\n",
    "\n",
    "\n",
    "#Final Predictions\n",
    "y_pred_final=rf_level2.predict(X_test_selected)\n",
    "\n",
    "#Evaluation\n",
    "print(\"Accuracy:\",accuracy_score(Y_test,y_pred_final))\n",
    "print(classification_report(Y_test,y_pred_final))"
   ]
  },
  {
   "cell_type": "markdown",
   "metadata": {},
   "source": [
    "----\n",
    "FUZZY INFERENCE SYSTEM (FIS)"
   ]
  },
  {
   "cell_type": "code",
   "execution_count": 6,
   "metadata": {},
   "outputs": [
    {
     "name": "stdout",
     "output_type": "stream",
     "text": [
      "Severity Assessments Example: ['Low', 'Low', 'Low', 'Low', 'Low', 'Low', 'Low', 'Low', 'Low', 'Low']\n"
     ]
    }
   ],
   "source": [
    "#define fuzzy variables\n",
    "severity=np.arange(0,101,1)\n",
    "low=fuzz.trimf(severity,[0,0,50])\n",
    "medium=fuzz.trimf(severity,[30,50,70])\n",
    "high=fuzz.trimf(severity,[60,100,100])\n",
    "\n",
    "#Define fuzzy inference rules\n",
    "def assess_severity(prob):\n",
    "    if prob<0.5:\n",
    "        return \"Low\"\n",
    "    elif 0.5<=prob<0.8:\n",
    "        return \"Medium\"\n",
    "    else:\n",
    "        return \"High\"\n",
    "\n",
    "\n",
    "#Apply FIS to refine classification\n",
    "rf_probs=rf_level2.predict_proba(X_test_selected)[:,1]\n",
    "severity_assessments=[assess_severity(prob) for prob in rf_probs]\n",
    "\n",
    "print(\"Severity Assessments Example:\",severity_assessments[:10])"
   ]
  },
  {
   "cell_type": "markdown",
   "metadata": {},
   "source": [
    "----\n",
    "VISUALIZATION"
   ]
  },
  {
   "cell_type": "code",
   "execution_count": 7,
   "metadata": {},
   "outputs": [
    {
     "data": {
      "image/png": "[encoded data removed]",
      "text/plain": [
       "<Figure size 640x480 with 2 Axes>"
      ]
     },
     "metadata": {},
     "output_type": "display_data"
    }
   ],
   "source": [
    "#Confusion Matrix\n",
    "cm=confusion_matrix(Y_test,y_pred_final)\n",
    "sns.heatmap(cm,annot=True,fmt='d',cmap='Blues')\n",
    "plt.title('Confusion Matrix')\n",
    "plt.ylabel('True Label')\n",
    "plt.xlabel('Predicted Label')\n",
    "plt.show()"
   ]
  },
  {
   "cell_type": "code",
   "execution_count": null,
   "metadata": {},
   "outputs": [],
   "source": []
  }
 ],
 "metadata": {
  "colab": {
   "provenance": []
  },
  "kernelspec": {
   "display_name": "Python 3 (ipykernel)",
   "language": "python",
   "name": "python3"
  },
  "language_info": {
   "codemirror_mode": {
    "name": "ipython",
    "version": 3
   },
   "file_extension": ".py",
   "mimetype": "text/x-python",
   "name": "python",
   "nbconvert_exporter": "python",
   "pygments_lexer": "ipython3",
   "version": "3.12.1"
  }
 },
 "nbformat": 4,
 "nbformat_minor": 4
}
